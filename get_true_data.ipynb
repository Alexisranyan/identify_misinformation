{
 "cells": [
  {
   "cell_type": "code",
   "execution_count": 78,
   "metadata": {},
   "outputs": [],
   "source": [
    "import requests\n",
    "import pandas as pd \n",
    "import numpy as np\n",
    "import matplotlib.pyplot as plt\n",
    "\n",
    "\n",
    "from bs4 import BeautifulSoup\n",
    "from time import sleep\n",
    " "
   ]
  },
  {
   "cell_type": "code",
   "execution_count": 2,
   "metadata": {},
   "outputs": [],
   "source": [
    "def generate_subreddit(sub_name, time):\n",
    "    url = 'https://api.pushshift.io/reddit/search/submission'\n",
    "    params = {\n",
    "        'subreddit': sub_name,\n",
    "        'size': 100,\n",
    "        'before':time\n",
    "    }\n",
    "    res = requests.get(url, params)\n",
    "    return res.json()"
   ]
  },
  {
   "cell_type": "code",
   "execution_count": 16,
   "metadata": {},
   "outputs": [],
   "source": [
    "time_c = 1594227288\n",
    "true_post = []\n",
    "while time_c != 1596646488:\n",
    "    corona = generate_subreddit('Coronavirus',time_c)['data']\n",
    "    true_post.extend(corona)\n",
    "    time_c += 86400"
   ]
  },
  {
   "cell_type": "code",
   "execution_count": 28,
   "metadata": {},
   "outputs": [
    {
     "data": {
      "text/html": [
       "<div>\n",
       "<style scoped>\n",
       "    .dataframe tbody tr th:only-of-type {\n",
       "        vertical-align: middle;\n",
       "    }\n",
       "\n",
       "    .dataframe tbody tr th {\n",
       "        vertical-align: top;\n",
       "    }\n",
       "\n",
       "    .dataframe thead th {\n",
       "        text-align: right;\n",
       "    }\n",
       "</style>\n",
       "<table border=\"1\" class=\"dataframe\">\n",
       "  <thead>\n",
       "    <tr style=\"text-align: right;\">\n",
       "      <th></th>\n",
       "      <th>label</th>\n",
       "      <th>text</th>\n",
       "    </tr>\n",
       "  </thead>\n",
       "  <tbody>\n",
       "    <tr>\n",
       "      <th>0</th>\n",
       "      <td>ture</td>\n",
       "      <td>Canada handled the coronavirus outbreak better...</td>\n",
       "    </tr>\n",
       "    <tr>\n",
       "      <th>1</th>\n",
       "      <td>ture</td>\n",
       "      <td>Bolsonaro says he's taking hydroxychloroquine ...</td>\n",
       "    </tr>\n",
       "    <tr>\n",
       "      <th>2</th>\n",
       "      <td>ture</td>\n",
       "      <td>Trump threatens to cut funding for schools, sl...</td>\n",
       "    </tr>\n",
       "    <tr>\n",
       "      <th>3</th>\n",
       "      <td>ture</td>\n",
       "      <td>60k today Record Breakers</td>\n",
       "    </tr>\n",
       "    <tr>\n",
       "      <th>4</th>\n",
       "      <td>ture</td>\n",
       "      <td>Nearly half the employees at an Arizona ICE de...</td>\n",
       "    </tr>\n",
       "    <tr>\n",
       "      <th>...</th>\n",
       "      <td>...</td>\n",
       "      <td>...</td>\n",
       "    </tr>\n",
       "    <tr>\n",
       "      <th>2795</th>\n",
       "      <td>ture</td>\n",
       "      <td>Kosovo: New PM Avdullah Hoti diagnosed with CO...</td>\n",
       "    </tr>\n",
       "    <tr>\n",
       "      <th>2796</th>\n",
       "      <td>ture</td>\n",
       "      <td>Goldman Sachs predicts FDA will approve corona...</td>\n",
       "    </tr>\n",
       "    <tr>\n",
       "      <th>2797</th>\n",
       "      <td>ture</td>\n",
       "      <td>China constata otros 36 casos nuevos de corona...</td>\n",
       "    </tr>\n",
       "    <tr>\n",
       "      <th>2798</th>\n",
       "      <td>ture</td>\n",
       "      <td>Ecuador rebasa los 87.000 casos de coronavirus...</td>\n",
       "    </tr>\n",
       "    <tr>\n",
       "      <th>2799</th>\n",
       "      <td>ture</td>\n",
       "      <td>Mapa y listado de los últimos rebrotes de coro...</td>\n",
       "    </tr>\n",
       "  </tbody>\n",
       "</table>\n",
       "<p>2800 rows × 2 columns</p>\n",
       "</div>"
      ],
      "text/plain": [
       "     label                                               text\n",
       "0     ture  Canada handled the coronavirus outbreak better...\n",
       "1     ture  Bolsonaro says he's taking hydroxychloroquine ...\n",
       "2     ture  Trump threatens to cut funding for schools, sl...\n",
       "3     ture                          60k today Record Breakers\n",
       "4     ture  Nearly half the employees at an Arizona ICE de...\n",
       "...    ...                                                ...\n",
       "2795  ture  Kosovo: New PM Avdullah Hoti diagnosed with CO...\n",
       "2796  ture  Goldman Sachs predicts FDA will approve corona...\n",
       "2797  ture  China constata otros 36 casos nuevos de corona...\n",
       "2798  ture  Ecuador rebasa los 87.000 casos de coronavirus...\n",
       "2799  ture  Mapa y listado de los últimos rebrotes de coro...\n",
       "\n",
       "[2800 rows x 2 columns]"
      ]
     },
     "execution_count": 28,
     "metadata": {},
     "output_type": "execute_result"
    }
   ],
   "source": [
    "pd.DataFrame({'label': 'ture','text':[values for values in pd.DataFrame(true_post)['title']]})"
   ]
  },
  {
   "cell_type": "code",
   "execution_count": 32,
   "metadata": {},
   "outputs": [],
   "source": [
    "eric_data = pd.read_csv('datasets/combined_data.csv')"
   ]
  },
  {
   "cell_type": "code",
   "execution_count": 50,
   "metadata": {},
   "outputs": [],
   "source": [
    "url = 'https://www.who.int/emergencies/diseases/novel-coronavirus-2019/advice-for-public/myth-busters'"
   ]
  },
  {
   "cell_type": "code",
   "execution_count": 51,
   "metadata": {},
   "outputs": [],
   "source": [
    "res = requests.get(url)"
   ]
  },
  {
   "cell_type": "code",
   "execution_count": 52,
   "metadata": {},
   "outputs": [],
   "source": [
    "soup = BeautifulSoup(res.content, 'lxml')"
   ]
  },
  {
   "cell_type": "code",
   "execution_count": 57,
   "metadata": {},
   "outputs": [],
   "source": [
    "h2s =soup.find_all('h2')"
   ]
  },
  {
   "cell_type": "code",
   "execution_count": null,
   "metadata": {},
   "outputs": [],
   "source": []
  },
  {
   "cell_type": "code",
   "execution_count": 64,
   "metadata": {},
   "outputs": [],
   "source": [
    "trues = []\n",
    "for each in h2s[1:]:\n",
    "    li_true = each.text[6:]\n",
    "    trues.append(li_true)"
   ]
  },
  {
   "cell_type": "code",
   "execution_count": 65,
   "metadata": {},
   "outputs": [
    {
     "data": {
      "text/plain": [
       "['Studies show hydroxychloroquine does not have clinical benefits in treating COVID-19\\xa0\\n',\n",
       " 'People should NOT wear masks while exercising\\xa0\\n',\n",
       " 'The likelihood of shoes spreading COVID-19 is very low',\n",
       " 'The coronavirus disease (COVID-19) is caused by a virus, NOT by bacteria',\n",
       " 'The prolonged use of medical masks* when properly worn, DOES NOT cause CO2 intoxication nor oxygen deficiency',\n",
       " 'Most people who get COVID-19 recover from it',\n",
       " 'Drinking alcohol does not protect you against COVID-19 and can be dangerous',\n",
       " 'Thermal scanners CANNOT detect COVID-19',\n",
       " 'There are currently no drugs licensed for the treatment or prevention of COVID-19',\n",
       " 'Adding pepper to your soup or other meals DOES NOT prevent or cure COVID-19',\n",
       " 'COVID-19 is NOT transmitted through houseflies',\n",
       " 'Spraying and introducing bleach or another disinfectant into your body WILL NOT protect you against COVID-19\\xa0and can be dangerous',\n",
       " 'Drinking methanol, ethanol or bleach DOES NOT prevent or cure COVID-19 and can be extremely dangerous',\n",
       " '5G mobile networks DO NOT spread COVID-19',\n",
       " 'Exposing yourself to the sun or temperatures higher than 25°C DOES NOT protect you from COVID-19',\n",
       " 'Catching COVID-19 DOES NOT mean you will have it for life',\n",
       " 'Being able to hold your breath for 10 seconds or more without coughing or feeling discomfort DOES NOT mean you are free from COVID-19',\n",
       " 'The COVID-19 virus can spread in hot and humid climates',\n",
       " 'Cold weather and snow CANNOT kill the COVID-19 virus',\n",
       " 'Taking a hot bath does not prevent COVID-19',\n",
       " 'VID-19 virus CANNOT be spread through mosquito bites',\n",
       " 'Hand dryers are NOT effective in killing the COVID-19 virus',\n",
       " 'Ultra-violet (UV) lamps should NOT be used to disinfect hands or other areas of your skin',\n",
       " 'Vaccines against pneumonia DO NOT protect against the COVID-19 virus',\n",
       " 'Rinsing your nose with saline does NOT prevent COVID-19 ',\n",
       " 'Eating garlic does NOT prevent COVID-19',\n",
       " 'People of all ages can be infected by the COVID-19 virus',\n",
       " 'Antibiotics CANNOT prevent or treat COVID-19',\n",
       " 'There are no medicines that can prevent or treat COVID-19']"
      ]
     },
     "execution_count": 65,
     "metadata": {},
     "output_type": "execute_result"
    }
   ],
   "source": [
    "trues"
   ]
  },
  {
   "cell_type": "code",
   "execution_count": 75,
   "metadata": {},
   "outputs": [],
   "source": [
    "who_data = pd.DataFrame({'label': 'true','text':[values for values in trues]})"
   ]
  },
  {
   "cell_type": "code",
   "execution_count": 76,
   "metadata": {},
   "outputs": [],
   "source": [
    "combined_with_who = pd.concat([eric_data, who_data],ignore_index=True)"
   ]
  },
  {
   "cell_type": "code",
   "execution_count": 77,
   "metadata": {},
   "outputs": [],
   "source": [
    "combined_with_who.to_csv('datasets/combined_with_who.csv', index = False)"
   ]
  },
  {
   "cell_type": "code",
   "execution_count": null,
   "metadata": {},
   "outputs": [],
   "source": []
  }
 ],
 "metadata": {
  "kernelspec": {
   "display_name": "Python 3",
   "language": "python",
   "name": "python3"
  },
  "language_info": {
   "codemirror_mode": {
    "name": "ipython",
    "version": 3
   },
   "file_extension": ".py",
   "mimetype": "text/x-python",
   "name": "python",
   "nbconvert_exporter": "python",
   "pygments_lexer": "ipython3",
   "version": "3.7.6"
  }
 },
 "nbformat": 4,
 "nbformat_minor": 4
}
